{
  "cells": [
    {
      "cell_type": "markdown",
      "metadata": {
        "id": "view-in-github",
        "colab_type": "text"
      },
      "source": [
        "<a href=\"https://colab.research.google.com/github/merriekay/j23_cs167_notes/blob/main/Day05_P1_Decision_Trees.ipynb\" target=\"_parent\"><img src=\"https://colab.research.google.com/assets/colab-badge.svg\" alt=\"Open In Colab\"/></a>"
      ]
    },
    {
      "cell_type": "markdown",
      "metadata": {
        "id": "FBOgec6F46Wj"
      },
      "source": [
        "# CS167: Day05 \n",
        "## Part 1: Decision Trees\n",
        "\n",
        "#### CS167: Machine Learning, J-Term 2023\n",
        "\n",
        "Friday, January 6th, 2023 -- Session II (10:20 - 11:35)\n",
        "\n",
        "[⏮ Day04 Part 2](https://github.com/merriekay/j23_cs167_notes/blob/main/Day04_P2_Metrics_Testing.ipynb) | [Day05 Part 1⏩]()"
      ]
    },
    {
      "cell_type": "markdown",
      "source": [
        "# Admin Stuff:\n",
        "\n",
        "You should be working on: \n",
        "- Quiz #1, due tonight by 11:59pm\n",
        "- [Notebook #3](https://classroom.github.com/a/960Y0T8W), released today, due tomorrow night 1/10 by 11:59pm."
      ],
      "metadata": {
        "id": "_n7C3f4U_YJX"
      }
    },
    {
      "cell_type": "markdown",
      "metadata": {
        "id": "Y17rZcyP46Wn"
      },
      "source": [
        "## Helpful Links:\n",
        "📆 [Course Schedule](https://docs.google.com/spreadsheets/d/e/2PACX-1vStj3FCEJqloUMLn2VtHa4yy1ILY6WvABhu4jd4cVUpPGkrx1mEjfTFmd77DMESR9HJ-8UBxgMDJL06/pubhtml?gid=0&single=true) | 🙋[PollEverywhere](https://pollev.com/meredithmoore011) | 📜 [Syllabus](https://analytics.drake.edu/~moore/j23_cs167/Syllabus.html)\n"
      ]
    },
    {
      "cell_type": "markdown",
      "metadata": {
        "id": "ZxnWAYep46Wo"
      },
      "source": [
        "## This Week Overview:\n",
        "\n",
        "| **Date** | **Day of Week** | **Day of Class** | **Topic**                               | **Assigned** | **Due (11:59pm)** |\n",
        "|----------|-----------------|------------------|-----------------------------------------|--------------|-------------------|\n",
        "| 1/9/23   | M               | Day05            | Decision Trees Part I                   | [N3](https://classroom.github.com/a/960Y0T8W)           | Q1                |\n",
        "|          |                 |                  | Decision Trees Part II                  |              |                   |\n",
        "| 1/10/23  | T               | Day06            | Intro to Scikit Learn                   | N4           | N3                |\n",
        "|          |                 |                  | Random Forests                          |              |                   |\n",
        "| 1/11/23  | W               | Day07            | SVMs                                    | P1           | N4                |\n",
        "|          |                 |                  | PCA                                     |              |                   |\n",
        "| 1/12/23  | R               | Day08            | Intro to Neural Networks -- Percpetrons | N5           |                   |\n",
        "|          |                 |                  | Perceptron Code                         |              |                   |\n",
        "| 1/13/23  | F               | Day09            | Artifical Neural Networks               | Q2           | N5                |\n",
        "|          |                 |                  | ANN Code                                |              |                   |\n"
      ]
    },
    {
      "cell_type": "markdown",
      "metadata": {
        "id": "Dz1gNUY346Wp"
      },
      "source": [
        "# Can't forget to add our data/libraries:\n",
        "Make sure you download the `winequality-white.csv` file from Bb and put it in your Drive."
      ]
    },
    {
      "cell_type": "code",
      "execution_count": null,
      "metadata": {
        "id": "QquTFy0X46Wp"
      },
      "outputs": [],
      "source": [
        "#run this cell if you're using Colab:\n",
        "from google.colab import drive\n",
        "drive.mount('/content/drive')"
      ]
    },
    {
      "cell_type": "code",
      "execution_count": null,
      "metadata": {
        "id": "jd1Pg4ic46Wq",
        "outputId": "146b3c1a-5448-44a0-bdef-a6fae5079cbd"
      },
      "outputs": [
        {
          "data": {
            "text/html": [
              "<div>\n",
              "<style scoped>\n",
              "    .dataframe tbody tr th:only-of-type {\n",
              "        vertical-align: middle;\n",
              "    }\n",
              "\n",
              "    .dataframe tbody tr th {\n",
              "        vertical-align: top;\n",
              "    }\n",
              "\n",
              "    .dataframe thead th {\n",
              "        text-align: right;\n",
              "    }\n",
              "</style>\n",
              "<table border=\"1\" class=\"dataframe\">\n",
              "  <thead>\n",
              "    <tr style=\"text-align: right;\">\n",
              "      <th></th>\n",
              "      <th>sepal length</th>\n",
              "      <th>sepal width</th>\n",
              "      <th>petal length</th>\n",
              "      <th>petal width</th>\n",
              "      <th>species</th>\n",
              "    </tr>\n",
              "  </thead>\n",
              "  <tbody>\n",
              "    <tr>\n",
              "      <th>0</th>\n",
              "      <td>5.1</td>\n",
              "      <td>3.5</td>\n",
              "      <td>1.4</td>\n",
              "      <td>0.2</td>\n",
              "      <td>Iris-setosa</td>\n",
              "    </tr>\n",
              "    <tr>\n",
              "      <th>1</th>\n",
              "      <td>4.9</td>\n",
              "      <td>3.0</td>\n",
              "      <td>1.4</td>\n",
              "      <td>0.2</td>\n",
              "      <td>Iris-setosa</td>\n",
              "    </tr>\n",
              "    <tr>\n",
              "      <th>2</th>\n",
              "      <td>4.7</td>\n",
              "      <td>3.2</td>\n",
              "      <td>1.3</td>\n",
              "      <td>0.2</td>\n",
              "      <td>Iris-setosa</td>\n",
              "    </tr>\n",
              "    <tr>\n",
              "      <th>3</th>\n",
              "      <td>4.6</td>\n",
              "      <td>3.1</td>\n",
              "      <td>1.5</td>\n",
              "      <td>0.2</td>\n",
              "      <td>Iris-setosa</td>\n",
              "    </tr>\n",
              "    <tr>\n",
              "      <th>4</th>\n",
              "      <td>5.0</td>\n",
              "      <td>3.6</td>\n",
              "      <td>1.4</td>\n",
              "      <td>0.2</td>\n",
              "      <td>Iris-setosa</td>\n",
              "    </tr>\n",
              "  </tbody>\n",
              "</table>\n",
              "</div>"
            ],
            "text/plain": [
              "   sepal length  sepal width  petal length  petal width      species\n",
              "0           5.1          3.5           1.4          0.2  Iris-setosa\n",
              "1           4.9          3.0           1.4          0.2  Iris-setosa\n",
              "2           4.7          3.2           1.3          0.2  Iris-setosa\n",
              "3           4.6          3.1           1.5          0.2  Iris-setosa\n",
              "4           5.0          3.6           1.4          0.2  Iris-setosa"
            ]
          },
          "execution_count": 4,
          "metadata": {},
          "output_type": "execute_result"
        }
      ],
      "source": [
        "#import the data:\n",
        "#make sure the path on the line below corresponds to the path where you put your dataset.\n",
        "import pandas as pd\n",
        "import numpy as np\n",
        "path = 'datasets/irisData.csv' #'/content/drive/MyDrive/CS167/datasets/winequality-white.csv'\n",
        "iris= pd.read_csv(path)\n",
        "iris.head()"
      ]
    },
    {
      "cell_type": "markdown",
      "metadata": {
        "id": "Gb-_R_7o46Wr"
      },
      "source": [
        "## Quick Review:\n"
      ]
    },
    {
      "cell_type": "markdown",
      "metadata": {
        "id": "5vT7W02_46Ws"
      },
      "source": [
        "__k-Nearest-Neighbor Algorihm__: Predict the _most commonly appearing_ class among the __k__ closest training examples."
      ]
    },
    {
      "cell_type": "markdown",
      "metadata": {
        "id": "_zr4xA2V46Ws"
      },
      "source": [
        "## 3-Nearest-Neighbor Algorithm\n",
        "\n",
        "> Wait... why did we skip 2-NN?\n",
        "\n",
        "### What will a 3NN algorithm predict?\n",
        "\n",
        "<div>\n",
        "<img src=\"https://github.com/merriekay/j23_cs167_notes/blob/main/images/day03_3NN_iris.png?raw=1\" width=450/>\n",
        "</div>"
      ]
    },
    {
      "cell_type": "markdown",
      "metadata": {
        "id": "v_F3houm46Wt"
      },
      "source": [
        "# Remember our kNN function?"
      ]
    },
    {
      "cell_type": "code",
      "execution_count": null,
      "metadata": {
        "id": "1UyJnFBe46Wt"
      },
      "outputs": [],
      "source": [
        "def kNN(specimen, data, k):\n",
        "    # write your code in here to make this function work\n",
        "    # 1. calculate distances\n",
        "    data['distance_to_new'] = np.sqrt(\n",
        "    (specimen['petal length'] - data['petal length'])**2 \n",
        "    +(specimen['sepal length'] - data['sepal length'])**2 \n",
        "    +(specimen['petal width'] - data['petal width'])**2\n",
        "    +(specimen['sepal width'] - data['sepal width'])**2)\n",
        "\n",
        "    # 2. sort\n",
        "    data.sort_values(['distance_to_new'], inplace=True)\n",
        "    \n",
        "    # 3. predict\n",
        "    prediction = data.iloc[0:k]['species'].mode()\n",
        "\n",
        "    return prediction.iloc[0]"
      ]
    },
    {
      "cell_type": "code",
      "execution_count": null,
      "metadata": {
        "id": "AY7o8gZe46Wu",
        "outputId": "af9f9a8f-c8a2-43b5-adf2-cf659bfb6175"
      },
      "outputs": [
        {
          "data": {
            "text/plain": [
              "0    Iris-versicolor\n",
              "dtype: object"
            ]
          },
          "execution_count": 53,
          "metadata": {},
          "output_type": "execute_result"
        }
      ],
      "source": [
        "new_iris = {}\n",
        "new_iris['petal length'] = 5.1\n",
        "new_iris['sepal length'] = 7.2\n",
        "new_iris['petal width'] = 1.5\n",
        "new_iris['sepal width'] = 2.5\n",
        "\n",
        "kNN(new_iris, iris, 3)"
      ]
    },
    {
      "cell_type": "markdown",
      "metadata": {
        "id": "hXxJxOV846Wu"
      },
      "source": [
        "## kNN for Regression?\n",
        "\n",
        "The only thing we need to change if our target variable is a real-valued number (continuous) is that rather than taking the `mode()` of the __k__ closest neighbors, we will take the `mean()` of the k closest neighbors."
      ]
    },
    {
      "cell_type": "markdown",
      "metadata": {
        "id": "CXkN3OGB46Wu"
      },
      "source": [
        "## Are all neighbors created equal?\n",
        "\n",
        "The way we've learned kNN so far, each neighbor gets an equal vote in the decision of what to predict.\n",
        "\n",
        "Do we see any problems with this? If so, what?"
      ]
    },
    {
      "cell_type": "markdown",
      "metadata": {
        "id": "ETROrMnf46Wv"
      },
      "source": [
        "<div>\n",
        "<img src=\"https://github.com/merriekay/j23_cs167_notes/blob/main/images/day04_wknn_motivation.png?raw=1\" width = 500/>\n",
        "</div>"
      ]
    },
    {
      "cell_type": "markdown",
      "metadata": {
        "id": "hal7gkI546Wv"
      },
      "source": [
        "# Weighted k-NNN Intuition:\n",
        "\n",
        "In weighted kNN, the nearest k points are given a weight, and the weights are grouped by the target variable. The class with the largest sum of weights will be the class that is predicted. \n",
        "\n",
        "The intuition is to give more weight to the points that are nearby and less weight to the points that are farther away.\n",
        "- distance-weighted voting"
      ]
    },
    {
      "cell_type": "markdown",
      "metadata": {
        "id": "GZq4iV4a46Wv"
      },
      "source": [
        "In w-kNN, we want to predict the target variable with the most weight, where the weight is defined by the inverse distance function.\n",
        "\n",
        "## $w_{q,i} = \\frac{1}{d(x_q, x_i)^2}$\n",
        "\n",
        "> In English, you can read that as the __weight__ of a traning example is equal to 1 divided by the distance between the new instance and the traning example squared."
      ]
    },
    {
      "cell_type": "code",
      "execution_count": null,
      "metadata": {
        "id": "hO7I_XBs46Wv"
      },
      "outputs": [],
      "source": [
        "def w_knn(specimen, data, k):\n",
        "    #calculate the distance\n",
        "    data['distance_to_new'] = np.sqrt(\n",
        "    (specimen['petal length'] - data['petal length'])**2 \n",
        "    +(specimen['sepal length'] - data['sepal length'])**2 \n",
        "    +(specimen['petal width'] - data['petal width'])**2\n",
        "    +(specimen['sepal width'] - data['sepal width'])**2)\n",
        "\n",
        "    \n",
        "    # calculate the weights (remember, weights are 1/d^2)\n",
        "    data['weight'] = 1/(data['distance_to_new']**2)\n",
        "    \n",
        "    # find the k closest neighbors\n",
        "    data.sort_values(['distance_to_new'], inplace=True)\n",
        "    neighbors = data.iloc[0:k]\n",
        "    \n",
        "    # use groupby to sum the weights of each species in the closest k\n",
        "    results = neighbors.groupby(['species']).weight.sum()\n",
        "    #print(results)\n",
        "    #print(results.idxmax(), results.iloc[0])\n",
        "    return results.idxmax()\n",
        "    \n",
        "    # return the class that has the largest sum of weight."
      ]
    },
    {
      "cell_type": "code",
      "execution_count": null,
      "metadata": {
        "id": "A6Zdzagr46Ww",
        "outputId": "c8599251-4e96-40fb-f440-207f85dae34d"
      },
      "outputs": [
        {
          "name": "stdout",
          "output_type": "stream",
          "text": [
            "species\n",
            "Iris-versicolor    13.059271\n",
            "Iris-virginica      7.992415\n",
            "Name: weight, dtype: float64\n"
          ]
        },
        {
          "data": {
            "text/plain": [
              "'Iris-versicolor'"
            ]
          },
          "execution_count": 47,
          "metadata": {},
          "output_type": "execute_result"
        }
      ],
      "source": [
        "new_iris = {}\n",
        "new_iris['petal length'] = 5.1\n",
        "new_iris['sepal length'] = 7.2\n",
        "new_iris['petal width'] = 1.5\n",
        "new_iris['sepal width'] = 2.5\n",
        "\n",
        "w_knn(new_iris, iris, 15)\n",
        "#new_iris['petal length']"
      ]
    },
    {
      "cell_type": "markdown",
      "metadata": {
        "id": "dTHQovCY46Ww"
      },
      "source": [
        "## Z-score Normalization:\n"
      ]
    },
    {
      "cell_type": "code",
      "execution_count": null,
      "metadata": {
        "id": "GAKDyWH046Ww"
      },
      "outputs": [],
      "source": [
        "def z_score(columns, data):\n",
        "    \"\"\"\n",
        "    takes in a list of columns to normalize using the z-score method\n",
        "    Params:\n",
        "        columns, a list of columns to normalize\n",
        "        data, the dataframe, preferably a copy\n",
        "    \"\"\"\n",
        "    for col in columns:\n",
        "        #get the mean and std\n",
        "        col_m = data[col].mean()\n",
        "        col_s = data[col].std()\n",
        "        \n",
        "        data[col] = (data[col] - col_m)/col_s"
      ]
    },
    {
      "cell_type": "code",
      "execution_count": null,
      "metadata": {
        "scrolled": false,
        "id": "z0vUWPjG46Wx",
        "outputId": "ae0b5ae5-6cdb-4021-bf06-099fa1609faf"
      },
      "outputs": [
        {
          "name": "stdout",
          "output_type": "stream",
          "text": [
            "species\n",
            "Iris-versicolor    1.319030\n",
            "Iris-virginica     2.360782\n",
            "Name: weight, dtype: float64\n"
          ]
        },
        {
          "data": {
            "text/plain": [
              "'Iris-virginica'"
            ]
          },
          "execution_count": 49,
          "metadata": {},
          "output_type": "execute_result"
        }
      ],
      "source": [
        "# get the mean() and std() for each column of iris\n",
        "pl_mean = iris['petal length'].mean()\n",
        "pl_std = iris['petal length'].std()\n",
        "\n",
        "pw_mean = iris['petal width'].mean()\n",
        "pw_std = iris['petal width'].std()\n",
        "\n",
        "sl_mean = iris['sepal length'].mean()\n",
        "sl_std = iris['sepal length'].std()\n",
        "\n",
        "sw_mean = iris['sepal width'].mean()\n",
        "sw_std = iris['sepal width'].std()\n",
        "\n",
        "#create a new dictionary with the normalized values\n",
        "norm_iris = {}\n",
        "\n",
        "norm_iris['petal length'] = (new_iris['petal length']-pl_mean)/pl_std\n",
        "norm_iris['petal width'] = (new_iris['petal width']-pw_mean)/pw_std\n",
        "norm_iris['sepal length'] = (new_iris['sepal length']-sl_mean)/sl_std\n",
        "norm_iris['sepal width'] = (new_iris['sepal width']-sw_mean)/sw_std"
      ]
    },
    {
      "cell_type": "markdown",
      "metadata": {
        "id": "rmvtd_Ws46Wx"
      },
      "source": [
        "## Cross-Validation\n",
        "\n",
        "Don't train the model on the testing data!\n",
        "\n",
        "<div>\n",
        "<img src=\"https://github.com/merriekay/j23_cs167_notes/blob/main/images/day04_cross_validation.png?raw=1\" width=600/>\n",
        "</div>"
      ]
    },
    {
      "cell_type": "code",
      "execution_count": null,
      "metadata": {
        "id": "wsWwWZ0B46Wx",
        "outputId": "cece71a0-9b85-449d-9810-501e363a436c"
      },
      "outputs": [
        {
          "data": {
            "text/plain": [
              "(130, 5)"
            ]
          },
          "execution_count": 15,
          "metadata": {},
          "output_type": "execute_result"
        }
      ],
      "source": [
        "import pandas as pd\n",
        "import numpy as np\n",
        "\n",
        "data = pd.read_csv('datasets/irisData.csv')\n",
        "\n",
        "#shuffle the data \"sampling\" the full set in random order\n",
        "shuffled_data = data.sample(frac=1, random_state=41)\n",
        "\n",
        "#use the first 20 rows in the shuffled set as testing data \n",
        "#train with the rest.\n",
        "test_data = shuffled_data.iloc[0:20]\n",
        "train_data = shuffled_data.iloc[20:]\n",
        "train_data.shape"
      ]
    },
    {
      "cell_type": "markdown",
      "metadata": {
        "id": "QwfnUxPQ46Wx"
      },
      "source": [
        "## Cross-Validation Metrics:\n",
        "\n",
        "When doing cross-validation, how do we tell how well our model performed?\n",
        "\n",
        "How can we measure it?"
      ]
    },
    {
      "cell_type": "markdown",
      "metadata": {
        "id": "G4BhAfZm46Wy"
      },
      "source": [
        "| **Type of ML** | **Metric**                | **Description**                                                                                              |\n",
        "|----------------|---------------------------|:--------------------------------------------------------------------------------------------------------------|\n",
        "| Classification | Accuracy                  | Number correct examples divided by total number                                                              |\n",
        "| Classification | Confusion Matrix          | Detailed table of where our model got confused. |\n",
        "| Regression     | Mean Absolute Error (MAE) | The average absolute distance from the target variable                                                       |\n",
        "| Regression     | Mean Squared Error (MSE)  | The average squared distance from the target variable                                                        |\n",
        "| Regression     | $R^2$                     | 1: perfectly fit data<br>0: same performance as guessing the mean of the target variable<br>-1: really bad.  |"
      ]
    },
    {
      "cell_type": "markdown",
      "metadata": {
        "id": "ByuQBCW846Wy"
      },
      "source": [
        "## 💬 Review Q:\n",
        "\n",
        "Imagine you are working with regression data, in which you need to compare two series of data (one predictions, the other answers) using Mean Squared Error to determine how effective a value of k is in kNN:\n",
        "\n",
        "Which metric do you think would work best and why?\n",
        "- accuracy\n",
        "- MSE\n",
        "- MAE\n",
        "- $R^2$"
      ]
    },
    {
      "cell_type": "markdown",
      "metadata": {
        "id": "_DqOCkqd46Wy"
      },
      "source": [
        "# ✨ New Material: "
      ]
    },
    {
      "cell_type": "markdown",
      "metadata": {
        "id": "NN4NdZRh46Wy"
      },
      "source": [
        "# Generating $R^2$ Values:"
      ]
    },
    {
      "cell_type": "code",
      "execution_count": null,
      "metadata": {
        "id": "-89F4W9y46Wy",
        "outputId": "3f38c3cb-280f-4b02-dccc-ebea7b165c44"
      },
      "outputs": [
        {
          "name": "stdout",
          "output_type": "stream",
          "text": [
            "r^2 value:  0.9596044857108404\n"
          ]
        }
      ],
      "source": [
        "import pandas as pd\n",
        "actual_vals = pd.Series([.45,.76, .23,.98, .55])\n",
        "predicted_vals = pd.Series([.55 ,.77, .28,.96, .57])\n",
        "\n",
        "import sklearn.metrics #we'll talk more about sklearn tomorrow\n",
        "\n",
        "r2_val = sklearn.metrics.r2_score(actual_vals, predicted_vals)\n",
        "print(\"r^2 value: \" , r2_val)"
      ]
    },
    {
      "cell_type": "markdown",
      "metadata": {
        "id": "PGW2eGki46Wz"
      },
      "source": [
        "# [Notebook #3: Wine Quality 🍷](https://classroom.github.com/a/960Y0T8W)\n",
        "\n",
        "Wines are typically rated (scored) on a range from 0-10.\n",
        "\n",
        "Is there anything scientific or predictable to wine ratings?\n",
        "\n",
        "Given measurable qualities of wine, can they predict the rating.\n",
        "\n",
        "If I meaure, say 1600 white wines for alcohol, pH, citric acid, sulphates, etc, and then am given some random win, can we _predict_ it's rating?"
      ]
    },
    {
      "cell_type": "code",
      "execution_count": null,
      "metadata": {
        "id": "pKrwUYwZ46Wz",
        "outputId": "19da39e4-7123-4abe-f6e4-9e318413c572"
      },
      "outputs": [
        {
          "data": {
            "text/html": [
              "<div>\n",
              "<style scoped>\n",
              "    .dataframe tbody tr th:only-of-type {\n",
              "        vertical-align: middle;\n",
              "    }\n",
              "\n",
              "    .dataframe tbody tr th {\n",
              "        vertical-align: top;\n",
              "    }\n",
              "\n",
              "    .dataframe thead th {\n",
              "        text-align: right;\n",
              "    }\n",
              "</style>\n",
              "<table border=\"1\" class=\"dataframe\">\n",
              "  <thead>\n",
              "    <tr style=\"text-align: right;\">\n",
              "      <th></th>\n",
              "      <th>fixed acidity</th>\n",
              "      <th>volatile acidity</th>\n",
              "      <th>citric acid</th>\n",
              "      <th>residual sugar</th>\n",
              "      <th>chlorides</th>\n",
              "      <th>free sulfur dioxide</th>\n",
              "      <th>total sulfur dioxide</th>\n",
              "      <th>density</th>\n",
              "      <th>pH</th>\n",
              "      <th>sulphates</th>\n",
              "      <th>alcohol</th>\n",
              "      <th>quality</th>\n",
              "    </tr>\n",
              "  </thead>\n",
              "  <tbody>\n",
              "    <tr>\n",
              "      <th>0</th>\n",
              "      <td>7.4</td>\n",
              "      <td>0.70</td>\n",
              "      <td>0.00</td>\n",
              "      <td>1.9</td>\n",
              "      <td>0.076</td>\n",
              "      <td>11.0</td>\n",
              "      <td>34.0</td>\n",
              "      <td>0.9978</td>\n",
              "      <td>3.51</td>\n",
              "      <td>0.56</td>\n",
              "      <td>9.4</td>\n",
              "      <td>5</td>\n",
              "    </tr>\n",
              "    <tr>\n",
              "      <th>1</th>\n",
              "      <td>7.8</td>\n",
              "      <td>0.88</td>\n",
              "      <td>0.00</td>\n",
              "      <td>2.6</td>\n",
              "      <td>0.098</td>\n",
              "      <td>25.0</td>\n",
              "      <td>67.0</td>\n",
              "      <td>0.9968</td>\n",
              "      <td>3.20</td>\n",
              "      <td>0.68</td>\n",
              "      <td>9.8</td>\n",
              "      <td>5</td>\n",
              "    </tr>\n",
              "    <tr>\n",
              "      <th>2</th>\n",
              "      <td>7.8</td>\n",
              "      <td>0.76</td>\n",
              "      <td>0.04</td>\n",
              "      <td>2.3</td>\n",
              "      <td>0.092</td>\n",
              "      <td>15.0</td>\n",
              "      <td>54.0</td>\n",
              "      <td>0.9970</td>\n",
              "      <td>3.26</td>\n",
              "      <td>0.65</td>\n",
              "      <td>9.8</td>\n",
              "      <td>5</td>\n",
              "    </tr>\n",
              "    <tr>\n",
              "      <th>3</th>\n",
              "      <td>11.2</td>\n",
              "      <td>0.28</td>\n",
              "      <td>0.56</td>\n",
              "      <td>1.9</td>\n",
              "      <td>0.075</td>\n",
              "      <td>17.0</td>\n",
              "      <td>60.0</td>\n",
              "      <td>0.9980</td>\n",
              "      <td>3.16</td>\n",
              "      <td>0.58</td>\n",
              "      <td>9.8</td>\n",
              "      <td>6</td>\n",
              "    </tr>\n",
              "    <tr>\n",
              "      <th>4</th>\n",
              "      <td>7.4</td>\n",
              "      <td>0.70</td>\n",
              "      <td>0.00</td>\n",
              "      <td>1.9</td>\n",
              "      <td>0.076</td>\n",
              "      <td>11.0</td>\n",
              "      <td>34.0</td>\n",
              "      <td>0.9978</td>\n",
              "      <td>3.51</td>\n",
              "      <td>0.56</td>\n",
              "      <td>9.4</td>\n",
              "      <td>5</td>\n",
              "    </tr>\n",
              "  </tbody>\n",
              "</table>\n",
              "</div>"
            ],
            "text/plain": [
              "   fixed acidity  volatile acidity  citric acid  residual sugar  chlorides  \\\n",
              "0            7.4              0.70         0.00             1.9      0.076   \n",
              "1            7.8              0.88         0.00             2.6      0.098   \n",
              "2            7.8              0.76         0.04             2.3      0.092   \n",
              "3           11.2              0.28         0.56             1.9      0.075   \n",
              "4            7.4              0.70         0.00             1.9      0.076   \n",
              "\n",
              "   free sulfur dioxide  total sulfur dioxide  density    pH  sulphates  \\\n",
              "0                 11.0                  34.0   0.9978  3.51       0.56   \n",
              "1                 25.0                  67.0   0.9968  3.20       0.68   \n",
              "2                 15.0                  54.0   0.9970  3.26       0.65   \n",
              "3                 17.0                  60.0   0.9980  3.16       0.58   \n",
              "4                 11.0                  34.0   0.9978  3.51       0.56   \n",
              "\n",
              "   alcohol  quality  \n",
              "0      9.4        5  \n",
              "1      9.8        5  \n",
              "2      9.8        5  \n",
              "3      9.8        6  \n",
              "4      9.4        5  "
            ]
          },
          "execution_count": 6,
          "metadata": {},
          "output_type": "execute_result"
        }
      ],
      "source": [
        "import pandas as pd\n",
        "import numpy as np\n",
        "path = 'datasets/winequality-white.csv'\n",
        "iris= pd.read_csv(path)\n",
        "iris.head()"
      ]
    },
    {
      "cell_type": "markdown",
      "metadata": {
        "id": "10OuM1hv46Wz"
      },
      "source": [
        "## Exercise #1\n",
        "\n",
        "1. Implement mean squared error (mse) algorithm and test it:"
      ]
    },
    {
      "cell_type": "code",
      "execution_count": null,
      "metadata": {
        "id": "tzH5VKYb46Wz"
      },
      "outputs": [],
      "source": [
        "def mse(actual, predicted):\n",
        "    \"\"\"\n",
        "    Input: \n",
        "        actual, a list of values\n",
        "        predicted, a list of values\n",
        "        (assume actual and predicted are the same len)\n",
        "    Output: \n",
        "        the mean squared erro between the actual and predicted values\n",
        "    \"\"\"\n",
        "    print(\"Your code goes here\")"
      ]
    },
    {
      "cell_type": "markdown",
      "metadata": {
        "id": "Utege6WM46Wz"
      },
      "source": [
        "## Exercise #2\n",
        "\n",
        "2. Implement cross validation--create training and testing data. Use approximately the first 320 rows in the shuffled set as testing data. "
      ]
    },
    {
      "cell_type": "code",
      "execution_count": null,
      "metadata": {
        "id": "sOu9A3dH46W0"
      },
      "outputs": [],
      "source": [
        "wine_data = pd.read_csv('/content/drive/MyDrive/CS167/datasets/winequality-white.csv')\n",
        "\n",
        "#establish test_data and train_data here"
      ]
    },
    {
      "cell_type": "markdown",
      "metadata": {
        "id": "DC3lwDSn46W0"
      },
      "source": [
        "## Exercise #3\n",
        "\n",
        "3. Use the kNN implementation and the other code provided below to normalize your data. Test your model using several different values of k and __graphically show__ the results using your implmentation of __MSE__. "
      ]
    },
    {
      "cell_type": "markdown",
      "metadata": {
        "id": "wDMqqLAf46W0"
      },
      "source": [
        "## Exercise #4\n",
        "\n",
        "4. Repeat the experiment and __graphically show the results__ using __$R^2$__. "
      ]
    },
    {
      "cell_type": "markdown",
      "metadata": {
        "id": "UZwca7xK46W0"
      },
      "source": [
        "## Exercise #5\n",
        "\n",
        "5. Describe your findings. What conclusions can you draw about the best number for k for the kNN algorithm for this dataset? __Explain why__. Use a markdown cell to explain your conclusions. "
      ]
    },
    {
      "cell_type": "markdown",
      "metadata": {
        "id": "xm0l_SWS46W0"
      },
      "source": [
        "# Decision Trees 🌳"
      ]
    },
    {
      "cell_type": "markdown",
      "metadata": {
        "id": "KcCe0ubv46W0"
      },
      "source": [
        "### What is a tree in computer science?"
      ]
    },
    {
      "cell_type": "markdown",
      "metadata": {
        "id": "167yXpwy46W0"
      },
      "source": [
        "__Tree__: a common data structure that simulates a hierarchical tree structure, with a root value and subtrees of children with a parent node, represented as a set of liked nodes. \n",
        "\n",
        "Where is a common place we interact with a tree datastructue on a daily basis?"
      ]
    },
    {
      "cell_type": "markdown",
      "metadata": {
        "id": "p0Ce3C3q46W1"
      },
      "source": [
        "<div>\n",
        "<img src=\"https://github.com/merriekay/j23_cs167_notes/blob/main/images/day05_decision_tree.png?raw=1\" width=250/>\n",
        "</div>"
      ]
    },
    {
      "cell_type": "markdown",
      "metadata": {
        "id": "Epkfr2yw46W1"
      },
      "source": [
        "## What is a decision tree?\n",
        "<div>\n",
        "<img src=\"https://github.com/merriekay/j23_cs167_notes/blob/main/images/day05_dt_ex1.png?raw=1\" width=600/>\n",
        "</div>"
      ]
    },
    {
      "cell_type": "markdown",
      "metadata": {
        "id": "K8kDq9z146W1"
      },
      "source": [
        "## What is a decision tree?\n",
        "<div>\n",
        "<img src=\"https://github.com/merriekay/j23_cs167_notes/blob/main/images/day05_dt_ex2.png?raw=1\" width=600/>\n",
        "</div>"
      ]
    },
    {
      "cell_type": "markdown",
      "metadata": {
        "id": "Nuv18eaB46W1"
      },
      "source": [
        "# Decision Tree Examples\n",
        "\n",
        "We're going to switch to Google Slides here: [Decision Tree Example Slides](https://docs.google.com/presentation/d/1mQxycmE2gjC5i-Iwphpd_KAsaFxVDzJXkg_C2EBFGUQ/edit?usp=sharing)"
      ]
    },
    {
      "cell_type": "markdown",
      "metadata": {
        "id": "k2ofdTZW46W1"
      },
      "source": [
        "## 🚨 Terminology Alert 🚨: `consistent` and `generalize`\n",
        "\n",
        "Is this tree __consistent__ with the training examples?\n",
        "- do all of the training examples get categorized appropriately?\n",
        "\n",
        "Will this tree __generalize__ well to new examples?\n",
        "- how well will new examples (test set) perform?"
      ]
    },
    {
      "cell_type": "markdown",
      "metadata": {
        "id": "L63raTEs46W1"
      },
      "source": [
        "## Great, now how do I build (grow) a tree?\n",
        "\n",
        "One algorithm that builds a decision tree is called the __ID3 Decision Tree Learning Algorithm__."
      ]
    },
    {
      "cell_type": "markdown",
      "metadata": {
        "id": "_gPkUryp46W1"
      },
      "source": [
        "It goes like this: \n",
        "    \n",
        "__Main ID3 Loop__:\n",
        "1. Assign A to be the _best_ decision feature for the next node.\n",
        "2. Assign A as decision feature for the node\n",
        "3. For each pssible attribute of A, create a new descendant of node\n",
        "4. Soft training examples to leaf nodes\n",
        "5. if Training examples are perfectly classified, the STOp, Else, iterate over new leaf nodes."
      ]
    },
    {
      "cell_type": "markdown",
      "metadata": {
        "id": "rYdjJojL46W2"
      },
      "source": [
        "### What does 'best' mean? How can we tell which node is *best*?"
      ]
    },
    {
      "cell_type": "markdown",
      "metadata": {
        "id": "7WevF7qp46W2"
      },
      "source": [
        "## Selecting a feature: Polleverywhere\n",
        "\n",
        "<div>\n",
        "<img src=\"https://github.com/merriekay/j23_cs167_notes/blob/main/images/day05_selecting_feature.png?raw=1\" width=600/>\n",
        "</div>"
      ]
    },
    {
      "cell_type": "markdown",
      "metadata": {
        "id": "CladlZZp46W2"
      },
      "source": [
        "## Selecting a feature:\n",
        "__idea__: a good feature splits the examples into __subsets that are as pure as possible__ (ideally) 'all positive' or 'all negative'\n",
        "\n",
        "> patrons is a better choice--it gives more information about the classification."
      ]
    },
    {
      "cell_type": "markdown",
      "metadata": {
        "id": "xNzXl1QT46W2"
      },
      "source": [
        "## 🚨 Terminology Alert 🚨 `entropy`\n",
        "\n",
        "__Entropy__: measure of impurity/randomness\n",
        "- __high entropy__: more evenly split classes - highly unpredictable\n",
        "- __low entropy__: mostly one class - highly predictable\n",
        "\n",
        "<div>\n",
        "<img src=\"https://github.com/merriekay/j23_cs167_notes/blob/main/images/day05_entropy.png?raw=1\" width=600/>\n",
        "</div>"
      ]
    },
    {
      "cell_type": "markdown",
      "metadata": {
        "id": "V05F5_4f46W2"
      },
      "source": [
        "## Calculating Entropy Prior\n",
        "\n",
        "__Prior Probability__:aka the 'prior'\n",
        "- the split of the examples\n",
        "- if I have 9 positive examples and 5 negative examples, my prior is:\n",
        "\n",
        "$\\langle 9/14, 5/14 \\rangle \\approx \\langle 0.64, 0.36 \\rangle$\n",
        "> the prior probabilities must sum to 1"
      ]
    },
    {
      "cell_type": "markdown",
      "metadata": {
        "id": "a_uPYG_A46W2"
      },
      "source": [
        "## Calculating Entropy:\n",
        "\n",
        "Calculating the entropy when prior is $\\langle P_1, ..., P_c\\rangle$\n",
        "\n",
        "<div>\n",
        "<img src=\"https://github.com/merriekay/j23_cs167_notes/blob/main/images/day05_entropy_calc.png?raw=1\" width=600/>\n",
        "</div>"
      ]
    },
    {
      "cell_type": "markdown",
      "metadata": {
        "id": "gEppi73446W2"
      },
      "source": [
        "- entropy of prior $\\langle 0.5, 0.5 \\rangle$ is $-0.5 \\log_{2}(0.5) -0.5 \\log_{2}(0.5)  = 1$"
      ]
    },
    {
      "cell_type": "markdown",
      "metadata": {
        "id": "i62SxAjc46W3"
      },
      "source": [
        "- entropy of prior $\\langle 0.9, 0.1 \\rangle$ is $-0.9 \\log_{2}(0.9)-0.1 \\log_{2}(0.1) \\approx 0.47$"
      ]
    },
    {
      "cell_type": "markdown",
      "metadata": {
        "id": "YkbP9ZcW46W3"
      },
      "source": [
        "- entropy of prior $\\langle 0.64, 0.36 \\rangle$ is $-0.64 \\log_{2}(0.64)-0.36 \\log_{2}(0.36) \\approx 0.94$"
      ]
    },
    {
      "cell_type": "markdown",
      "metadata": {
        "id": "1eGfMWjY46W3"
      },
      "source": [
        "- entropy of prior $\\langle 0.25, 0.25, 0.5 \\rangle$ is $-0.25 \\log_{2}(0.25)-0.25 \\log_{2}(0.25)-0.5 \\log_{2}(0.5) \\approx 1.5 $\n",
        "\n",
        "> The maximum entropy is $\\log_{2}(k)$ where $k$ is the number of categories. It is not always bounded by 0 and 1"
      ]
    },
    {
      "cell_type": "code",
      "execution_count": null,
      "metadata": {
        "id": "NwT1388i46W3",
        "outputId": "ce304fad-0012-437f-ca2c-6d23d6b15511"
      },
      "outputs": [
        {
          "data": {
            "text/plain": [
              "1.5849625007211563"
            ]
          },
          "execution_count": 12,
          "metadata": {},
          "output_type": "execute_result"
        }
      ],
      "source": [
        "import math\n",
        "math.log(3, 2) # log base 2 of 3"
      ]
    },
    {
      "cell_type": "markdown",
      "metadata": {
        "id": "w-jJsWsx46W3"
      },
      "source": [
        "## Code for Entropy:"
      ]
    },
    {
      "cell_type": "code",
      "execution_count": null,
      "metadata": {
        "id": "cVWJfKKE46W3",
        "outputId": "a81f49fa-fdb3-4430-cacc-a815126c668f"
      },
      "outputs": [
        {
          "name": "stdout",
          "output_type": "stream",
          "text": [
            "log base 2 of 0.5 is -1.0\n",
            "log base 2 of 1 is 0.0\n",
            "log base 2 of 2 is 1.0\n",
            "log base 2 of 4 is 2.0\n",
            "log base 2 of 8 is 3.0\n",
            "log base 2 of 16 is 4.0\n",
            "log base 2 of 32 is 5.0\n",
            "log base 2 of 64 is 6.0\n"
          ]
        }
      ],
      "source": [
        "import math\n",
        "# here's the syntax for a log(Base 2)\n",
        "for i in [.5,1,2,4,8,16,32,64]:\n",
        "    print(\"log base 2 of\", i, \"is\", math.log2(i))"
      ]
    },
    {
      "cell_type": "code",
      "execution_count": null,
      "metadata": {
        "id": "GCSr8hDY46W4"
      },
      "outputs": [],
      "source": [
        "import math\n",
        "def entropy(percentage_list):\n",
        "    #input: percentage_list consists of float values that sum to 1.0 \n",
        "    #return: calculation of entropy for input percentages\n",
        "    result = 0\n",
        "    for percentage in percentage_list:\n",
        "        if percentage != 0:\n",
        "            result += -percentage*math.log2(percentage)\n",
        "    return result"
      ]
    },
    {
      "cell_type": "code",
      "execution_count": null,
      "metadata": {
        "id": "drhOY6bn46W4",
        "outputId": "7842befb-38dc-448f-b2d4-4d0c625107dc"
      },
      "outputs": [
        {
          "data": {
            "text/plain": [
              "0.9182958340544896"
            ]
          },
          "execution_count": 17,
          "metadata": {},
          "output_type": "execute_result"
        }
      ],
      "source": [
        "#example of a calculation of entropy\n",
        "entropy([2/6,4/6])"
      ]
    },
    {
      "cell_type": "code",
      "execution_count": null,
      "metadata": {
        "id": "_pwgapam46W4",
        "outputId": "252bfa55-4478-4925-90ef-e13bb6cff591"
      },
      "outputs": [
        {
          "data": {
            "text/plain": [
              "1.5"
            ]
          },
          "execution_count": 18,
          "metadata": {},
          "output_type": "execute_result"
        }
      ],
      "source": [
        "entropy([1/4, 1/4, 2/4])"
      ]
    },
    {
      "cell_type": "code",
      "execution_count": null,
      "metadata": {
        "id": "CVK8CsQ346W4"
      },
      "outputs": [],
      "source": [
        "import pandas\n",
        "import numpy\n",
        "from google.colab import drive\n",
        "drive.mount('/content/drive')"
      ]
    },
    {
      "cell_type": "code",
      "execution_count": null,
      "metadata": {
        "id": "W5NXGoR_46W5",
        "outputId": "964fa01f-8326-42e8-8e90-6579968baeb4"
      },
      "outputs": [
        {
          "data": {
            "text/html": [
              "<div>\n",
              "<style scoped>\n",
              "    .dataframe tbody tr th:only-of-type {\n",
              "        vertical-align: middle;\n",
              "    }\n",
              "\n",
              "    .dataframe tbody tr th {\n",
              "        vertical-align: top;\n",
              "    }\n",
              "\n",
              "    .dataframe thead th {\n",
              "        text-align: right;\n",
              "    }\n",
              "</style>\n",
              "<table border=\"1\" class=\"dataframe\">\n",
              "  <thead>\n",
              "    <tr style=\"text-align: right;\">\n",
              "      <th></th>\n",
              "      <th>alt</th>\n",
              "      <th>bar</th>\n",
              "      <th>fri</th>\n",
              "      <th>hun</th>\n",
              "      <th>pat</th>\n",
              "      <th>price</th>\n",
              "      <th>rain</th>\n",
              "      <th>res</th>\n",
              "      <th>type</th>\n",
              "      <th>est</th>\n",
              "      <th>target</th>\n",
              "    </tr>\n",
              "  </thead>\n",
              "  <tbody>\n",
              "    <tr>\n",
              "      <th>0</th>\n",
              "      <td>Yes</td>\n",
              "      <td>No</td>\n",
              "      <td>No</td>\n",
              "      <td>Yes</td>\n",
              "      <td>Some</td>\n",
              "      <td>$$$</td>\n",
              "      <td>No</td>\n",
              "      <td>Yes</td>\n",
              "      <td>French</td>\n",
              "      <td>0-10</td>\n",
              "      <td>Yes</td>\n",
              "    </tr>\n",
              "    <tr>\n",
              "      <th>1</th>\n",
              "      <td>Yes</td>\n",
              "      <td>No</td>\n",
              "      <td>No</td>\n",
              "      <td>Yes</td>\n",
              "      <td>Full</td>\n",
              "      <td>$</td>\n",
              "      <td>No</td>\n",
              "      <td>No</td>\n",
              "      <td>Thai</td>\n",
              "      <td>30-60</td>\n",
              "      <td>No</td>\n",
              "    </tr>\n",
              "    <tr>\n",
              "      <th>2</th>\n",
              "      <td>No</td>\n",
              "      <td>Yes</td>\n",
              "      <td>No</td>\n",
              "      <td>No</td>\n",
              "      <td>Some</td>\n",
              "      <td>$</td>\n",
              "      <td>No</td>\n",
              "      <td>No</td>\n",
              "      <td>Burger</td>\n",
              "      <td>0-10</td>\n",
              "      <td>Yes</td>\n",
              "    </tr>\n",
              "    <tr>\n",
              "      <th>3</th>\n",
              "      <td>Yes</td>\n",
              "      <td>No</td>\n",
              "      <td>Yes</td>\n",
              "      <td>Yes</td>\n",
              "      <td>Full</td>\n",
              "      <td>$</td>\n",
              "      <td>No</td>\n",
              "      <td>No</td>\n",
              "      <td>Thai</td>\n",
              "      <td>10-30</td>\n",
              "      <td>Yes</td>\n",
              "    </tr>\n",
              "    <tr>\n",
              "      <th>4</th>\n",
              "      <td>Yes</td>\n",
              "      <td>No</td>\n",
              "      <td>Yes</td>\n",
              "      <td>No</td>\n",
              "      <td>Full</td>\n",
              "      <td>$$$</td>\n",
              "      <td>No</td>\n",
              "      <td>Yes</td>\n",
              "      <td>French</td>\n",
              "      <td>&gt;60</td>\n",
              "      <td>No</td>\n",
              "    </tr>\n",
              "  </tbody>\n",
              "</table>\n",
              "</div>"
            ],
            "text/plain": [
              "   alt  bar  fri  hun   pat price rain  res    type    est target\n",
              "0  Yes   No   No  Yes  Some   $$$   No  Yes  French   0-10    Yes\n",
              "1  Yes   No   No  Yes  Full     $   No   No    Thai  30-60     No\n",
              "2   No  Yes   No   No  Some     $   No   No  Burger   0-10    Yes\n",
              "3  Yes   No  Yes  Yes  Full     $   No   No    Thai  10-30    Yes\n",
              "4  Yes   No  Yes   No  Full   $$$   No  Yes  French    >60     No"
            ]
          },
          "execution_count": 21,
          "metadata": {},
          "output_type": "execute_result"
        }
      ],
      "source": [
        "path = 'datasets/restaurant.csv'  #'/content/drive/MyDrive/CS167/Datasets/restaurant.csv'\n",
        "restaurant = pd.read_csv(path)\n",
        "\n",
        "restaurant.head()"
      ]
    },
    {
      "cell_type": "markdown",
      "metadata": {
        "id": "V4SUpww246W5"
      },
      "source": [
        "## Example: Step 1\n",
        "\n",
        "Start by calculating the entropy of the example __before__ picking a feature:\n",
        "- $\\langle 0.5, 0.5 \\rangle = 1$\n",
        "<div>\n",
        "<img src=\"https://github.com/merriekay/j23_cs167_notes/blob/main/images/day05_patrons_entropy.png?raw=1\" width=600/>\n",
        "</div>"
      ]
    },
    {
      "cell_type": "markdown",
      "metadata": {
        "id": "8V52wAOF46W5"
      },
      "source": [
        "## Example: Step 1\n",
        "\n",
        "\n",
        "<div>\n",
        "<img src=\"https://github.com/merriekay/j23_cs167_notes/blob/main/images/day05_patrons_entropy2.png?raw=1\" width=600/>\n",
        "</div>"
      ]
    },
    {
      "cell_type": "code",
      "execution_count": null,
      "metadata": {
        "id": "c-zODiX346W5",
        "outputId": "60ac36f4-32c3-4599-c56d-d8c93054ea2d"
      },
      "outputs": [
        {
          "data": {
            "text/html": [
              "<div>\n",
              "<style scoped>\n",
              "    .dataframe tbody tr th:only-of-type {\n",
              "        vertical-align: middle;\n",
              "    }\n",
              "\n",
              "    .dataframe tbody tr th {\n",
              "        vertical-align: top;\n",
              "    }\n",
              "\n",
              "    .dataframe thead th {\n",
              "        text-align: right;\n",
              "    }\n",
              "</style>\n",
              "<table border=\"1\" class=\"dataframe\">\n",
              "  <thead>\n",
              "    <tr style=\"text-align: right;\">\n",
              "      <th></th>\n",
              "      <th>pat</th>\n",
              "      <th>target</th>\n",
              "    </tr>\n",
              "  </thead>\n",
              "  <tbody>\n",
              "    <tr>\n",
              "      <th>1</th>\n",
              "      <td>Full</td>\n",
              "      <td>No</td>\n",
              "    </tr>\n",
              "    <tr>\n",
              "      <th>4</th>\n",
              "      <td>Full</td>\n",
              "      <td>No</td>\n",
              "    </tr>\n",
              "    <tr>\n",
              "      <th>8</th>\n",
              "      <td>Full</td>\n",
              "      <td>No</td>\n",
              "    </tr>\n",
              "    <tr>\n",
              "      <th>9</th>\n",
              "      <td>Full</td>\n",
              "      <td>No</td>\n",
              "    </tr>\n",
              "    <tr>\n",
              "      <th>3</th>\n",
              "      <td>Full</td>\n",
              "      <td>Yes</td>\n",
              "    </tr>\n",
              "    <tr>\n",
              "      <th>11</th>\n",
              "      <td>Full</td>\n",
              "      <td>Yes</td>\n",
              "    </tr>\n",
              "    <tr>\n",
              "      <th>6</th>\n",
              "      <td>None</td>\n",
              "      <td>No</td>\n",
              "    </tr>\n",
              "    <tr>\n",
              "      <th>10</th>\n",
              "      <td>None</td>\n",
              "      <td>No</td>\n",
              "    </tr>\n",
              "    <tr>\n",
              "      <th>0</th>\n",
              "      <td>Some</td>\n",
              "      <td>Yes</td>\n",
              "    </tr>\n",
              "    <tr>\n",
              "      <th>2</th>\n",
              "      <td>Some</td>\n",
              "      <td>Yes</td>\n",
              "    </tr>\n",
              "    <tr>\n",
              "      <th>5</th>\n",
              "      <td>Some</td>\n",
              "      <td>Yes</td>\n",
              "    </tr>\n",
              "    <tr>\n",
              "      <th>7</th>\n",
              "      <td>Some</td>\n",
              "      <td>Yes</td>\n",
              "    </tr>\n",
              "  </tbody>\n",
              "</table>\n",
              "</div>"
            ],
            "text/plain": [
              "     pat target\n",
              "1   Full     No\n",
              "4   Full     No\n",
              "8   Full     No\n",
              "9   Full     No\n",
              "3   Full    Yes\n",
              "11  Full    Yes\n",
              "6   None     No\n",
              "10  None     No\n",
              "0   Some    Yes\n",
              "2   Some    Yes\n",
              "5   Some    Yes\n",
              "7   Some    Yes"
            ]
          },
          "execution_count": 22,
          "metadata": {},
          "output_type": "execute_result"
        }
      ],
      "source": [
        "#Patrons expected entropy\n",
        "restaurant[['pat', 'target']].sort_values(['pat','target'])"
      ]
    },
    {
      "cell_type": "code",
      "execution_count": null,
      "metadata": {
        "id": "WWHDJ13846W5",
        "outputId": "b7018bc8-065b-40ef-f2ef-b20aa95c329b"
      },
      "outputs": [
        {
          "name": "stdout",
          "output_type": "stream",
          "text": [
            "0.9182958340544896 0.0 0.0\n"
          ]
        }
      ],
      "source": [
        "#calculate entropy\n",
        "entropy_patrons_full = entropy([4/6,2/6]) # 4/6 was No; 2/6 was Yes\n",
        "entropy_patrons_none = entropy([2/2,0/2])\n",
        "entropy_patrons_some = entropy([0/4,4/4])\n",
        "print(entropy_patrons_full, entropy_patrons_none, entropy_patrons_some)"
      ]
    },
    {
      "cell_type": "markdown",
      "metadata": {
        "id": "TsGEFVn146W6"
      },
      "source": [
        "## Expected Entropy\n",
        "\n",
        "The __expected entropy__ for a feature is defined as the weighted sum of the entropies multiplied by the fraction of samples that belong to each set:\n",
        "\n",
        "Example:\n",
        "\n",
        "<div>\n",
        "<img src=\"https://github.com/merriekay/j23_cs167_notes/blob/main/images/day05_expected_entropy.png?raw=1\" width=600/>\n",
        "</div>"
      ]
    },
    {
      "cell_type": "code",
      "execution_count": null,
      "metadata": {
        "id": "_yCYx4GX46W6",
        "outputId": "ea6125dd-62e6-42be-ff3b-ed9495ec3c7f"
      },
      "outputs": [
        {
          "data": {
            "text/plain": [
              "0.4591479170272448"
            ]
          },
          "execution_count": 28,
          "metadata": {},
          "output_type": "execute_result"
        }
      ],
      "source": [
        "# calculate expected_entropy (weighted average)\n",
        "expected_entropy_patrons = 6/12*entropy_patrons_full + 2/12*entropy_patrons_none + 4/12*entropy_patrons_some\n",
        "expected_entropy_patrons"
      ]
    },
    {
      "cell_type": "markdown",
      "metadata": {
        "id": "6CAY2F9946W6"
      },
      "source": [
        "## Information Gain:\n",
        "\n",
        "The __information gain__ is *difference* between the entropy before the test and the expected entropy after the test. \n",
        "\n",
        "$Gain() = Entropy(before) - Expected Entropy (after)$\n",
        "\n",
        "<div>\n",
        "<img src=\"https://github.com/merriekay/j23_cs167_notes/blob/main/images/day05_IG_calc.png?raw=1\" width=600/>\n",
        "</div>"
      ]
    },
    {
      "cell_type": "code",
      "execution_count": null,
      "metadata": {
        "id": "HIzdjvXq46W6",
        "outputId": "d7ce1585-2b31-4971-fd0e-1bca728e69e4"
      },
      "outputs": [
        {
          "data": {
            "text/plain": [
              "0.5408520829727552"
            ]
          },
          "execution_count": 29,
          "metadata": {},
          "output_type": "execute_result"
        }
      ],
      "source": [
        "#calculate information gain (prior entropy - expected entropy)\n",
        "information_gain_patrons = 1.0 - expected_entropy_patrons\n",
        "information_gain_patrons"
      ]
    },
    {
      "cell_type": "markdown",
      "metadata": {
        "id": "zoqleFk646W6"
      },
      "source": [
        "# 💬 Group Exercise:\n",
        "\n",
        "Calculate the __Information Gain__ for `hun` and `est`:"
      ]
    },
    {
      "cell_type": "code",
      "execution_count": null,
      "metadata": {
        "id": "x4BSXoXc46W7",
        "outputId": "36003e87-ebef-4fd7-9046-bdfe6f6d4d9a"
      },
      "outputs": [
        {
          "data": {
            "text/html": [
              "<div>\n",
              "<style scoped>\n",
              "    .dataframe tbody tr th:only-of-type {\n",
              "        vertical-align: middle;\n",
              "    }\n",
              "\n",
              "    .dataframe tbody tr th {\n",
              "        vertical-align: top;\n",
              "    }\n",
              "\n",
              "    .dataframe thead th {\n",
              "        text-align: right;\n",
              "    }\n",
              "</style>\n",
              "<table border=\"1\" class=\"dataframe\">\n",
              "  <thead>\n",
              "    <tr style=\"text-align: right;\">\n",
              "      <th></th>\n",
              "      <th>hun</th>\n",
              "      <th>target</th>\n",
              "    </tr>\n",
              "  </thead>\n",
              "  <tbody>\n",
              "    <tr>\n",
              "      <th>4</th>\n",
              "      <td>No</td>\n",
              "      <td>No</td>\n",
              "    </tr>\n",
              "    <tr>\n",
              "      <th>6</th>\n",
              "      <td>No</td>\n",
              "      <td>No</td>\n",
              "    </tr>\n",
              "    <tr>\n",
              "      <th>8</th>\n",
              "      <td>No</td>\n",
              "      <td>No</td>\n",
              "    </tr>\n",
              "    <tr>\n",
              "      <th>10</th>\n",
              "      <td>No</td>\n",
              "      <td>No</td>\n",
              "    </tr>\n",
              "    <tr>\n",
              "      <th>2</th>\n",
              "      <td>No</td>\n",
              "      <td>Yes</td>\n",
              "    </tr>\n",
              "    <tr>\n",
              "      <th>1</th>\n",
              "      <td>Yes</td>\n",
              "      <td>No</td>\n",
              "    </tr>\n",
              "    <tr>\n",
              "      <th>9</th>\n",
              "      <td>Yes</td>\n",
              "      <td>No</td>\n",
              "    </tr>\n",
              "    <tr>\n",
              "      <th>0</th>\n",
              "      <td>Yes</td>\n",
              "      <td>Yes</td>\n",
              "    </tr>\n",
              "    <tr>\n",
              "      <th>3</th>\n",
              "      <td>Yes</td>\n",
              "      <td>Yes</td>\n",
              "    </tr>\n",
              "    <tr>\n",
              "      <th>5</th>\n",
              "      <td>Yes</td>\n",
              "      <td>Yes</td>\n",
              "    </tr>\n",
              "    <tr>\n",
              "      <th>7</th>\n",
              "      <td>Yes</td>\n",
              "      <td>Yes</td>\n",
              "    </tr>\n",
              "    <tr>\n",
              "      <th>11</th>\n",
              "      <td>Yes</td>\n",
              "      <td>Yes</td>\n",
              "    </tr>\n",
              "  </tbody>\n",
              "</table>\n",
              "</div>"
            ],
            "text/plain": [
              "    hun target\n",
              "4    No     No\n",
              "6    No     No\n",
              "8    No     No\n",
              "10   No     No\n",
              "2    No    Yes\n",
              "1   Yes     No\n",
              "9   Yes     No\n",
              "0   Yes    Yes\n",
              "3   Yes    Yes\n",
              "5   Yes    Yes\n",
              "7   Yes    Yes\n",
              "11  Yes    Yes"
            ]
          },
          "execution_count": 25,
          "metadata": {},
          "output_type": "execute_result"
        }
      ],
      "source": [
        "restaurant[['hun', 'target']].sort_values(['hun','target'])"
      ]
    },
    {
      "cell_type": "code",
      "execution_count": null,
      "metadata": {
        "id": "rZCFz4ce46W7"
      },
      "outputs": [],
      "source": []
    }
  ],
  "metadata": {
    "celltoolbar": "Slideshow",
    "kernelspec": {
      "display_name": "Python 3",
      "language": "python",
      "name": "python3"
    },
    "language_info": {
      "codemirror_mode": {
        "name": "ipython",
        "version": 3
      },
      "file_extension": ".py",
      "mimetype": "text/x-python",
      "name": "python",
      "nbconvert_exporter": "python",
      "pygments_lexer": "ipython3",
      "version": "3.8.3"
    },
    "colab": {
      "provenance": [],
      "include_colab_link": true
    }
  },
  "nbformat": 4,
  "nbformat_minor": 0
}