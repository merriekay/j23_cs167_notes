{
  "cells": [
    {
      "cell_type": "markdown",
      "metadata": {
        "id": "view-in-github",
        "colab_type": "text"
      },
      "source": [
        "<a href=\"https://colab.research.google.com/github/merriekay/j23_cs167_notes/blob/main/Day02_P2_Pandas_Exercises.ipynb\" target=\"_parent\"><img src=\"https://colab.research.google.com/assets/colab-badge.svg\" alt=\"Open In Colab\"/></a>"
      ]
    },
    {
      "cell_type": "markdown",
      "metadata": {
        "id": "gPrG9pxbQaGq"
      },
      "source": [
        "# CS167: Day02 \n",
        "## Part 2: Practicing with Pandas\n",
        "\n",
        "#### CS167: Machine Learning, J-Term 2023\n",
        "\n",
        "Wednesday, January 4th, 2023 -- Session II (10:20-11:35)\n",
        "\n",
        "[⏮ Day02 Part 1]() [⏩ Day03 Part 1]()"
      ]
    },
    {
      "cell_type": "markdown",
      "metadata": {
        "id": "NDWwUh_7QaGt"
      },
      "source": [
        "## Admin Stuff:\n",
        "\n",
        "You should be working on: \n",
        "- Notebook 0: Onboarding was due (although you didn't have anything to turn in) before class\n",
        "- Notebook #1 is released today, and will be due before class on Thursday 1/5."
      ]
    },
    {
      "cell_type": "markdown",
      "metadata": {
        "id": "K-kOozThQaGt"
      },
      "source": [
        "# Notebook #1: Python, Pandas and Pokemon, Oh My!\n",
        "\n",
        "I give you starter code, `notebook1_starter.ipynb`, please use it.\n",
        "There are 6 exercises, each worth 1 point. \n",
        "\n",
        "The dataset for this notebook can be found on Blackboard. \n",
        "\n",
        "[Link to Notebook #1](https://classroom.github.com/a/FNH0KzX1) "
      ]
    },
    {
      "cell_type": "markdown",
      "metadata": {
        "id": "pORxF4aCQaGu"
      },
      "source": [
        "# Pandas Practice Exercises\n",
        "These are some exercises for you to practice playing around with pandas. \n",
        "- these are not going to be turned in, they're just practice.\n",
        "- I'll post solutions tonight\n",
        "\n",
        "I hope these exercises will leave you in a good spot to tackle Notebook #1. \n",
        "\n",
        "## Let's get started\n",
        "Before you begin, make sure that you download the data from Blackboard and put it in your Google Dive wher eyou know how to find it (preferable in a datasets folder). "
      ]
    },
    {
      "cell_type": "code",
      "execution_count": null,
      "metadata": {
        "id": "HFr09qZUQaGu"
      },
      "outputs": [],
      "source": [
        "#selecting columns in dataframes\n",
        "import pandas\n",
        "from google.colab import drive\n",
        "drive.mount('/content/drive')"
      ]
    },
    {
      "cell_type": "code",
      "execution_count": null,
      "metadata": {
        "id": "8tZIZXvNQaGv"
      },
      "outputs": [],
      "source": [
        "#import the data:\n",
        "#make sure the path on the line below corresponds to the path where you put your dataset.\n",
        "titanic = pandas.read_csv(\"/content/drive/MyDrive/CS167/datasets/titanic.csv\")\n",
        "titanic.head()"
      ]
    },
    {
      "cell_type": "code",
      "execution_count": null,
      "metadata": {
        "id": "Z7ftoRZIQaGv"
      },
      "outputs": [],
      "source": [
        "# what is the data type of titanic?"
      ]
    },
    {
      "cell_type": "code",
      "execution_count": null,
      "metadata": {
        "id": "3SKL7KudQaGw"
      },
      "outputs": [],
      "source": [
        "# what are the features (column titles) of the titanic dataset?"
      ]
    },
    {
      "cell_type": "code",
      "execution_count": null,
      "metadata": {
        "id": "a3NhJf6QQaGw"
      },
      "outputs": [],
      "source": [
        "# display only the 'embark_town' column of the titanic data"
      ]
    },
    {
      "cell_type": "code",
      "execution_count": null,
      "metadata": {
        "id": "Mkp5syAgQaGw"
      },
      "outputs": [],
      "source": [
        "# what is the data type of the result of the previous cell? "
      ]
    },
    {
      "cell_type": "code",
      "execution_count": null,
      "metadata": {
        "id": "I3Y8tuOYQaGx"
      },
      "outputs": [],
      "source": [
        "# what is the \"shape\" of the data frame?"
      ]
    },
    {
      "cell_type": "code",
      "execution_count": null,
      "metadata": {
        "id": "clyjmaotQaGx"
      },
      "outputs": [],
      "source": [
        "# make a subset (call the variable 'subset') of the data that consists of the last 20 rows of the data;\n",
        "# verify that your subset has 20 rows"
      ]
    },
    {
      "cell_type": "code",
      "execution_count": null,
      "metadata": {
        "id": "zMXlgdxHQaGx"
      },
      "outputs": [],
      "source": [
        "# use loc to print out the data for passenger 890 on the titanic dataframe\n",
        "# use iloc to print out the data for passenger 890 on the subest dataframe"
      ]
    },
    {
      "cell_type": "code",
      "execution_count": null,
      "metadata": {
        "id": "uyoE5fOLQaGx"
      },
      "outputs": [],
      "source": [
        "# use a markdown cell; describe the difference between loc and iloc"
      ]
    },
    {
      "cell_type": "code",
      "execution_count": null,
      "metadata": {
        "id": "Z4vXGZpIQaGy"
      },
      "outputs": [],
      "source": [
        "# create a subset of the data (call the variable 'queenstown_subset') that consists only of passengers with\n",
        "# a 'embark_town' that is \"Queenstown\"\n",
        "# hint: if you get a warning, you may need to explicitly note that you are making a copy of the original data by using \n",
        "# the .copy() function"
      ]
    },
    {
      "cell_type": "code",
      "execution_count": null,
      "metadata": {
        "id": "WCZqjWWlQaGy"
      },
      "outputs": [],
      "source": [
        "# how many passengers are in queenstown_subset?"
      ]
    },
    {
      "cell_type": "code",
      "execution_count": null,
      "metadata": {
        "id": "kPrR7qEcQaGy"
      },
      "outputs": [],
      "source": [
        "# what is the average fare for all of those in the queenstown_subset?"
      ]
    },
    {
      "cell_type": "code",
      "execution_count": null,
      "metadata": {
        "id": "QKZj4BQjQaGy"
      },
      "outputs": [],
      "source": [
        "# what is the average age for all of those in the queenstown_subset?\n",
        "# do all of the passengers have an age recorded? What is recorded if there is no age?"
      ]
    },
    {
      "cell_type": "code",
      "execution_count": null,
      "metadata": {
        "id": "yj2xyvmFQaGy"
      },
      "outputs": [],
      "source": [
        "# What does unique(), mean(), isnull(), and fillna() do? Use a markdown cell to write your answers\n",
        "# Use the Pandas documentation (https://pandas.pydata.org/pandas-docs/stable/reference/index.html)"
      ]
    },
    {
      "cell_type": "code",
      "execution_count": null,
      "metadata": {
        "id": "kJreZf53QaGz"
      },
      "outputs": [],
      "source": [
        "# give examples of your use of unique(), mean(), median(), isnull()"
      ]
    },
    {
      "cell_type": "code",
      "execution_count": null,
      "metadata": {
        "id": "-68DFUPmQaGz"
      },
      "outputs": [],
      "source": [
        "# in the queenstown_subet dataframe\n",
        "# for each row that does not have an age recorded, replace the NaN value with the calculated average\n",
        "# hint: don't use a loop; it can be done in 1 line of code using fillna()"
      ]
    },
    {
      "cell_type": "code",
      "execution_count": null,
      "metadata": {
        "id": "nuqYSgaOQaGz"
      },
      "outputs": [],
      "source": [
        "# load in the iris data\n",
        "# what is the median sepal width of just the Setosas?"
      ]
    },
    {
      "cell_type": "code",
      "execution_count": null,
      "metadata": {
        "id": "eFn--TRIQaGz"
      },
      "outputs": [],
      "source": [
        "# for those iris that are classified as versicolor and have \n",
        "# a petal-length > 4, what is the average sepal width?"
      ]
    },
    {
      "cell_type": "markdown",
      "metadata": {
        "id": "7-90D2mjQaGz"
      },
      "source": [
        "Congrats! Now you're ready to move on to Notebook #1!"
      ]
    }
  ],
  "metadata": {
    "celltoolbar": "Slideshow",
    "kernelspec": {
      "display_name": "Python 3",
      "language": "python",
      "name": "python3"
    },
    "language_info": {
      "codemirror_mode": {
        "name": "ipython",
        "version": 3
      },
      "file_extension": ".py",
      "mimetype": "text/x-python",
      "name": "python",
      "nbconvert_exporter": "python",
      "pygments_lexer": "ipython3",
      "version": "3.8.3"
    },
    "colab": {
      "provenance": [],
      "include_colab_link": true
    }
  },
  "nbformat": 4,
  "nbformat_minor": 0
}