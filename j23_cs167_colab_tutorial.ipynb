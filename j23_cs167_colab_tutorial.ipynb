{
  "nbformat": 4,
  "nbformat_minor": 0,
  "metadata": {
    "colab": {
      "provenance": [],
      "authorship_tag": "ABX9TyOfpLRSWjxt4yRwfznSztnZ",
      "include_colab_link": true
    },
    "kernelspec": {
      "name": "python3",
      "display_name": "Python 3"
    },
    "language_info": {
      "name": "python"
    }
  },
  "cells": [
    {
      "cell_type": "markdown",
      "metadata": {
        "id": "view-in-github",
        "colab_type": "text"
      },
      "source": [
        "<a href=\"https://colab.research.google.com/github/merriekay/j23_cs167_notes/blob/main/j23_cs167_colab_tutorial.ipynb\" target=\"_parent\"><img src=\"https://colab.research.google.com/assets/colab-badge.svg\" alt=\"Open In Colab\"/></a>"
      ]
    },
    {
      "cell_type": "markdown",
      "source": [
        "# Colab Tutorial\n",
        "Jan 3rd, 2023\n",
        "\n",
        "You can run Python code in Colab. Use the short cut `shift + return`\n",
        "\n",
        "Markdown basics:\n",
        "- **bold text**, also __Bold text__\n",
        "- *italicized*, also _italics_\n",
        "- `typewriter text`\n",
        "- [something linky](www.google.com)\n",
        "  - new level of indent\n",
        "\n",
        "| A  | B | C |\n",
        "|:----|:---:|---:|\n",
        "| 1  | 2 | 3 |\n",
        "| 4  | 5 | 6 |\n",
        "\n",
        "---\n"
      ],
      "metadata": {
        "id": "nbObgfwwh3Mb"
      }
    },
    {
      "cell_type": "code",
      "source": [
        "x = 3 + 2\n",
        "x"
      ],
      "metadata": {
        "colab": {
          "base_uri": "https://localhost:8080/"
        },
        "id": "OyE0jq8Eh8VR",
        "outputId": "cb36e23a-2d2b-49cf-af8b-b873cf754ea0"
      },
      "execution_count": 7,
      "outputs": [
        {
          "output_type": "execute_result",
          "data": {
            "text/plain": [
              "5"
            ]
          },
          "metadata": {},
          "execution_count": 7
        }
      ]
    },
    {
      "cell_type": "code",
      "source": [
        "def my_func(x, y):\n",
        "  print(x - y)"
      ],
      "metadata": {
        "id": "jKIzcUcxiGMQ"
      },
      "execution_count": 11,
      "outputs": []
    },
    {
      "cell_type": "code",
      "source": [
        "x"
      ],
      "metadata": {
        "colab": {
          "base_uri": "https://localhost:8080/"
        },
        "id": "PamcIzoukGyY",
        "outputId": "14e23608-10a7-482f-9163-e17175918800"
      },
      "execution_count": 6,
      "outputs": [
        {
          "output_type": "execute_result",
          "data": {
            "text/plain": [
              "8"
            ]
          },
          "metadata": {},
          "execution_count": 6
        }
      ]
    },
    {
      "cell_type": "code",
      "source": [
        "my_func(1,5)"
      ],
      "metadata": {
        "colab": {
          "base_uri": "https://localhost:8080/"
        },
        "id": "-FdkAIgDkHU1",
        "outputId": "888dd69c-5e64-4d5b-e25a-e82ee63f3013"
      },
      "execution_count": 12,
      "outputs": [
        {
          "output_type": "stream",
          "name": "stdout",
          "text": [
            "-4\n"
          ]
        }
      ]
    },
    {
      "cell_type": "code",
      "source": [],
      "metadata": {
        "id": "8wyhKPK3kUfd"
      },
      "execution_count": null,
      "outputs": []
    }
  ]
}